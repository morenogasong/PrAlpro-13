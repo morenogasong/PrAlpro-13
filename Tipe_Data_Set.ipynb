{
  "nbformat": 4,
  "nbformat_minor": 0,
  "metadata": {
    "colab": {
      "provenance": []
    },
    "kernelspec": {
      "name": "python3",
      "display_name": "Python 3"
    },
    "language_info": {
      "name": "python"
    }
  },
  "cells": [
    {
      "cell_type": "markdown",
      "source": [
        "Dari contoh kasus kategori kasus di Play Store, tambahkan kemampuan-kemampuan berikut ini:\n",
        "\n",
        "• Tampilkan nama-nama aplikasi yang hanya muncul di satu kategori saja.\n",
        "\n",
        "• Untuk input n>2, tampilkan nama-nama aplikasi yang muncul tepat di dua kategori sekaligus\n"
      ],
      "metadata": {
        "id": "eIAwgXBTZx3W"
      }
    },
    {
      "cell_type": "code",
      "source": [
        "n = int(input('Masukkan nilai n: '))\n",
        "\n",
        "data_aplikasi = {}\n",
        "for i in range(n):\n",
        "    nama_kategori = input('Masukkan nama kategori:')\n",
        "    print('Masukkan 5 nama aplikasi di kategori', nama_kategori)\n",
        "\n",
        "    aplikasi = []\n",
        "    for j in range(5):\n",
        "        nama_aplikasi = input('Nama aplikasi: ')\n",
        "        aplikasi.append(nama_aplikasi)\n",
        "\n",
        "    data_aplikasi[nama_kategori] = aplikasi\n",
        "print(data_aplikasi)\n",
        "\n",
        "daftar_aplikasi_list = []\n",
        "for aplikasi in data_aplikasi.values():\n",
        "    daftar_aplikasi_list.append(set(aplikasi))\n",
        "\n",
        "print(daftar_aplikasi_list)\n",
        "\n",
        "hasil = daftar_aplikasi_list[0]\n",
        "for i in range(1, len(daftar_aplikasi_list)):\n",
        "    hasil = hasil.intersection(daftar_aplikasi_list[i])\n",
        "\n",
        "print(hasil)\n",
        "print(\" \")\n",
        "\n",
        "aplikasi_kategori_count = {}\n",
        "for kategori, aplikasi_list in data_aplikasi.items():\n",
        "    for aplikasi in aplikasi_list:\n",
        "        if aplikasi not in aplikasi_kategori_count:\n",
        "            aplikasi_kategori_count[aplikasi] = 0\n",
        "        aplikasi_kategori_count[aplikasi] += 1\n",
        "\n",
        "#SATU KATEGORI\n",
        "aplikasi_satu_kategori = [aplikasi for aplikasi, count in aplikasi_kategori_count.items() if count == 1]\n",
        "print('Aplikasi yang hanya muncul di satu kategori:', aplikasi_satu_kategori)\n",
        "print(\" \")\n",
        "\n",
        "# DUA KATEGORI\n",
        "aplikasi_dua_kategori = [aplikasi for aplikasi, count in aplikasi_kategori_count.items() if count == 2]\n",
        "print('Aplikasi yang muncul tepat di dua kategori:', aplikasi_dua_kategori)\n"
      ],
      "metadata": {
        "colab": {
          "base_uri": "https://localhost:8080/"
        },
        "id": "bIev7ViGZzju",
        "outputId": "b4ea35d1-f91f-46af-d167-0adaa32412b2"
      },
      "execution_count": null,
      "outputs": [
        {
          "output_type": "stream",
          "name": "stdout",
          "text": [
            "Masukkan nilai n: 2\n",
            "Masukkan nama kategori:Balapan\n",
            "Masukkan 5 nama aplikasi di kategori Balapan\n",
            "Nama aplikasi: Moto Rider\n",
            "Nama aplikasi: Race Master 3D\n",
            "Nama aplikasi: Car Race 3D\n",
            "Nama aplikasi: Motocross Bike\n",
            "Nama aplikasi: Free Fire\n",
            "Masukkan nama kategori:Kartu\n",
            "Masukkan 5 nama aplikasi di kategori Kartu\n",
            "Nama aplikasi: UNO\n",
            "Nama aplikasi: LUXY Domino\n",
            "Nama aplikasi: Free Fire\n",
            "Nama aplikasi: Solitaire\n",
            "Nama aplikasi: QiuQiu 99\n",
            "{'Balapan': ['Moto Rider', 'Race Master 3D', 'Car Race 3D', 'Motocross Bike', 'Free Fire'], 'Kartu': ['UNO', 'LUXY Domino', 'Free Fire', 'Solitaire', 'QiuQiu 99']}\n",
            "[{'Car Race 3D', 'Race Master 3D', 'Free Fire', 'Motocross Bike', 'Moto Rider'}, {'UNO', 'Solitaire', 'Free Fire', 'LUXY Domino', 'QiuQiu 99'}]\n",
            "{'Free Fire'}\n",
            " \n",
            "Aplikasi yang hanya muncul di satu kategori: ['Moto Rider', 'Race Master 3D', 'Car Race 3D', 'Motocross Bike', 'UNO', 'LUXY Domino', 'Solitaire', 'QiuQiu 99']\n",
            " \n",
            "Aplikasi yang muncul tepat di dua kategori: ['Free Fire']\n"
          ]
        }
      ]
    },
    {
      "cell_type": "markdown",
      "source": [
        "Latihan 12.2 Buatlah sebuah program yang mendemonstrasikan konversi dari:\n",
        "\n",
        "• List menjadi Set\n",
        "\n",
        "• Set menjadi List\n",
        "\n",
        "• Tuple menjadi Set\n",
        "\n",
        "• Set menjadi Tuple\n",
        "\n",
        "Tampilkan isi data sebelum dan sesudah konversi.\n"
      ],
      "metadata": {
        "id": "k4B96mmmZ6NR"
      }
    },
    {
      "cell_type": "code",
      "source": [
        "# List menjadi Set\n",
        "list_data = [1, 2, 3, 4, 5]\n",
        "print(\"List sebelum konversi:\", list_data)\n",
        "set_data = set(list_data)\n",
        "print(\"Set setelah konversi:\", set_data)\n",
        "print(\" \")\n",
        "\n",
        "# Set menjadi List\n",
        "set_data = {1, 2, 3, 4, 5}\n",
        "print(\"Set sebelum konversi:\", set_data)\n",
        "list_data = list(set_data)\n",
        "print(\"List setelah konversi:\", list_data)\n",
        "print(\" \")\n",
        "\n",
        "# Tuple menjadi Set\n",
        "tuple_data = (1, 2, 3, 4, 5)\n",
        "print(\"Tuple sebelum konversi:\", tuple_data)\n",
        "set_data = set(tuple_data)\n",
        "print(\"Set setelah konversi:\", set_data)\n",
        "print(\" \")\n",
        "\n",
        "# Set menjadi Tuple\n",
        "set_data = {1, 2, 3, 4, 5}\n",
        "print(\"Set sebelum konversi:\", set_data)\n",
        "tuple_data = tuple(set_data)\n",
        "print(\"Tuple setelah konversi:\", tuple_data)\n",
        "print(\" \")"
      ],
      "metadata": {
        "colab": {
          "base_uri": "https://localhost:8080/"
        },
        "id": "lSGOUUbffBi6",
        "outputId": "3d0237f2-0386-41fe-bdcc-a87644731cef"
      },
      "execution_count": 3,
      "outputs": [
        {
          "output_type": "stream",
          "name": "stdout",
          "text": [
            "List sebelum konversi: [1, 2, 3, 4, 5]\n",
            "Set setelah konversi: {1, 2, 3, 4, 5}\n",
            " \n",
            "Set sebelum konversi: {1, 2, 3, 4, 5}\n",
            "List setelah konversi: [1, 2, 3, 4, 5]\n",
            " \n",
            "Tuple sebelum konversi: (1, 2, 3, 4, 5)\n",
            "Set setelah konversi: {1, 2, 3, 4, 5}\n",
            " \n",
            "Set sebelum konversi: {1, 2, 3, 4, 5}\n",
            "Tuple setelah konversi: (1, 2, 3, 4, 5)\n",
            " \n"
          ]
        }
      ]
    },
    {
      "cell_type": "markdown",
      "source": [
        "Buatlah sebuah program yang dapat membaca dua file teks dan menampilkan semua kata-kata yang muncul pada kedua file tersebut. Beberapa hal yang perlu anda perhatikan:\n",
        "\n",
        "• Nama file adalah input user. Tampilkan pesan error jika file tidak ditemukan/tidak bisa dibaca.\n",
        "\n",
        "• Semua kata dikonversi dulu menjadi lowercase.\n",
        "\n",
        "• Sertakan contoh file teks yang anda pakai saat mengumpulkan laporan.\n"
      ],
      "metadata": {
        "id": "Jwp1SU6wfIz5"
      }
    },
    {
      "cell_type": "code",
      "source": [
        "filesatu = input(\"Masukkan file pertama: \")\n",
        "filedua = input(\"Masukkan file kedua: \")\n",
        "\n",
        "try:\n",
        "    file1 = open(filesatu)\n",
        "except:\n",
        "    print(\"File tidak dapat dibuka: \", filesatu)\n",
        "    exit()\n",
        "\n",
        "try:\n",
        "    file2 = open(filedua)\n",
        "except:\n",
        "    print(\"File tidak dapat dibuka: \", filedua)\n",
        "    exit()\n",
        "\n",
        "daftar_kata = []\n",
        "for file in file1:\n",
        "    file = file.strip()\n",
        "    file = file.split()\n",
        "    for j in file:\n",
        "        j = j.lower()\n",
        "        daftar_kata.append(j)\n",
        "\n",
        "daftar_kata2 = []\n",
        "for file in file2:\n",
        "    file = file.strip()\n",
        "    file = file.split()\n",
        "    for j in file:\n",
        "        j = j.lower()\n",
        "        daftar_kata2.append(j)\n",
        "\n",
        "kata_sama = set(daftar_kata) & set(daftar_kata2)\n",
        "print('Berikut adalah kata yang sama: ')\n",
        "for file in kata_sama:\n",
        "    print(file)\n",
        "\n",
        "file1.close()\n",
        "file2.close()"
      ],
      "metadata": {
        "id": "ylQw86wYfRW_"
      },
      "execution_count": null,
      "outputs": []
    }
  ]
}